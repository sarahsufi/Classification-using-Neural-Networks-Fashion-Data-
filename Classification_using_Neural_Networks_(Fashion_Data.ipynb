{
  "metadata": {
    "kernelspec": {
      "language": "python",
      "display_name": "Python 3",
      "name": "python3"
    },
    "language_info": {
      "name": "python",
      "version": "3.10.14",
      "mimetype": "text/x-python",
      "codemirror_mode": {
        "name": "ipython",
        "version": 3
      },
      "pygments_lexer": "ipython3",
      "nbconvert_exporter": "python",
      "file_extension": ".py"
    },
    "kaggle": {
      "accelerator": "none",
      "dataSources": [
        {
          "sourceId": 9243,
          "sourceType": "datasetVersion",
          "datasetId": 2243
        }
      ],
      "dockerImageVersionId": 30761,
      "isInternetEnabled": true,
      "language": "python",
      "sourceType": "notebook",
      "isGpuEnabled": false
    },
    "colab": {
      "name": "Classification using Neural Networks (Fashion Data",
      "provenance": [],
      "include_colab_link": true
    }
  },
  "nbformat_minor": 0,
  "nbformat": 4,
  "cells": [
    {
      "cell_type": "markdown",
      "metadata": {
        "id": "view-in-github",
        "colab_type": "text"
      },
      "source": [
        "<a href=\"https://colab.research.google.com/github/sarahsufi/Classification-using-Neural-Networks-Fashion-Data-/blob/main/Classification_using_Neural_Networks_(Fashion_Data.ipynb\" target=\"_parent\"><img src=\"https://colab.research.google.com/assets/colab-badge.svg\" alt=\"Open In Colab\"/></a>"
      ]
    },
    {
      "source": [
        "\n",
        "# IMPORTANT: RUN THIS CELL IN ORDER TO IMPORT YOUR KAGGLE DATA SOURCES\n",
        "# TO THE CORRECT LOCATION (/kaggle/input) IN YOUR NOTEBOOK,\n",
        "# THEN FEEL FREE TO DELETE THIS CELL.\n",
        "# NOTE: THIS NOTEBOOK ENVIRONMENT DIFFERS FROM KAGGLE'S PYTHON\n",
        "# ENVIRONMENT SO THERE MAY BE MISSING LIBRARIES USED BY YOUR\n",
        "# NOTEBOOK.\n",
        "\n",
        "import os\n",
        "import sys\n",
        "from tempfile import NamedTemporaryFile\n",
        "from urllib.request import urlopen\n",
        "from urllib.parse import unquote, urlparse\n",
        "from urllib.error import HTTPError\n",
        "from zipfile import ZipFile\n",
        "import tarfile\n",
        "import shutil\n",
        "\n",
        "CHUNK_SIZE = 40960\n",
        "DATA_SOURCE_MAPPING = 'fashionmnist:https%3A%2F%2Fstorage.googleapis.com%2Fkaggle-data-sets%2F2243%2F9243%2Fbundle%2Farchive.zip%3FX-Goog-Algorithm%3DGOOG4-RSA-SHA256%26X-Goog-Credential%3Dgcp-kaggle-com%2540kaggle-161607.iam.gserviceaccount.com%252F20240908%252Fauto%252Fstorage%252Fgoog4_request%26X-Goog-Date%3D20240908T194351Z%26X-Goog-Expires%3D259200%26X-Goog-SignedHeaders%3Dhost%26X-Goog-Signature%3D4ea9441228c465f536d5e2f62ba5f6ca657a61eb4227856bec9311671777263a95717333ad6a2484ca27440baed7e6e34f5455bbf25ce1b8f2b838f394e9a64157c7f5c63f087e551d45e237470872b00b16057b87917a713f75201d7ca28531506d227f087ab3eda247d4c630bec6f340c070b54f06374472ac0a3c93b49db44b2d919b8cfb55a5e27a73b461a3bd781471484ded6840df81ff6780b960d430e4fe0aa648075a68d8e94dba5a8bfcb306d4376d2045a6043ece802a6cd861b48de8a2471aa2fa53b895725040eea2cc3302110c88a2bd1342916223009e40bb2facc49f0a17c9a0be4d92108235bce29f10a0576dcfd139be73f85e0188cda3'\n",
        "\n",
        "KAGGLE_INPUT_PATH='/kaggle/input'\n",
        "KAGGLE_WORKING_PATH='/kaggle/working'\n",
        "KAGGLE_SYMLINK='kaggle'\n",
        "\n",
        "!umount /kaggle/input/ 2> /dev/null\n",
        "shutil.rmtree('/kaggle/input', ignore_errors=True)\n",
        "os.makedirs(KAGGLE_INPUT_PATH, 0o777, exist_ok=True)\n",
        "os.makedirs(KAGGLE_WORKING_PATH, 0o777, exist_ok=True)\n",
        "\n",
        "try:\n",
        "  os.symlink(KAGGLE_INPUT_PATH, os.path.join(\"..\", 'input'), target_is_directory=True)\n",
        "except FileExistsError:\n",
        "  pass\n",
        "try:\n",
        "  os.symlink(KAGGLE_WORKING_PATH, os.path.join(\"..\", 'working'), target_is_directory=True)\n",
        "except FileExistsError:\n",
        "  pass\n",
        "\n",
        "for data_source_mapping in DATA_SOURCE_MAPPING.split(','):\n",
        "    directory, download_url_encoded = data_source_mapping.split(':')\n",
        "    download_url = unquote(download_url_encoded)\n",
        "    filename = urlparse(download_url).path\n",
        "    destination_path = os.path.join(KAGGLE_INPUT_PATH, directory)\n",
        "    try:\n",
        "        with urlopen(download_url) as fileres, NamedTemporaryFile() as tfile:\n",
        "            total_length = fileres.headers['content-length']\n",
        "            print(f'Downloading {directory}, {total_length} bytes compressed')\n",
        "            dl = 0\n",
        "            data = fileres.read(CHUNK_SIZE)\n",
        "            while len(data) > 0:\n",
        "                dl += len(data)\n",
        "                tfile.write(data)\n",
        "                done = int(50 * dl / int(total_length))\n",
        "                sys.stdout.write(f\"\\r[{'=' * done}{' ' * (50-done)}] {dl} bytes downloaded\")\n",
        "                sys.stdout.flush()\n",
        "                data = fileres.read(CHUNK_SIZE)\n",
        "            if filename.endswith('.zip'):\n",
        "              with ZipFile(tfile) as zfile:\n",
        "                zfile.extractall(destination_path)\n",
        "            else:\n",
        "              with tarfile.open(tfile.name) as tarfile:\n",
        "                tarfile.extractall(destination_path)\n",
        "            print(f'\\nDownloaded and uncompressed: {directory}')\n",
        "    except HTTPError as e:\n",
        "        print(f'Failed to load (likely expired) {download_url} to path {destination_path}')\n",
        "        continue\n",
        "    except OSError as e:\n",
        "        print(f'Failed to load {download_url} to path {destination_path}')\n",
        "        continue\n",
        "\n",
        "print('Data source import complete.')\n"
      ],
      "metadata": {
        "id": "MoVpnV6yKhfD"
      },
      "cell_type": "code",
      "outputs": [],
      "execution_count": null
    },
    {
      "cell_type": "code",
      "source": [
        "# This Python 3 environment comes with many helpful analytics libraries installed\n",
        "# It is defined by the kaggle/python Docker image: https://github.com/kaggle/docker-python\n",
        "# For example, here's several helpful packages to load\n",
        "\n",
        "import numpy as np # linear algebra\n",
        "import pandas as pd # data processing, CSV file I/O (e.g. pd.read_csv)\n",
        "\n",
        "# Input data files are available in the read-only \"../input/\" directory\n",
        "# For example, running this (by clicking run or pressing Shift+Enter) will list all files under the input directory\n",
        "\n",
        "import os\n",
        "for dirname, _, filenames in os.walk('/kaggle/input'):\n",
        "    for filename in filenames:\n",
        "        print(os.path.join(dirname, filename))\n",
        "\n",
        "# You can write up to 20GB to the current directory (/kaggle/working/) that gets preserved as output when you create a version using \"Save & Run All\"\n",
        "# You can also write temporary files to /kaggle/temp/, but they won't be saved outside of the current session"
      ],
      "metadata": {
        "_uuid": "8f2839f25d086af736a60e9eeb907d3b93b6e0e5",
        "_cell_guid": "b1076dfc-b9ad-4769-8c92-a6c4dae69d19",
        "trusted": true,
        "id": "eokCSzfLKhfF"
      },
      "execution_count": null,
      "outputs": []
    },
    {
      "cell_type": "code",
      "source": [
        "import tensorflow as tf\n",
        "from tensorflow import keras\n",
        "import numpy as np\n",
        "import matplotlib.pyplot as plt\n",
        "fashion = keras.datasets.fashion_mnist\n",
        "(xtrain, ytrain), (xtest, ytest) = fashion.load_data()"
      ],
      "metadata": {
        "execution": {
          "iopub.status.busy": "2024-08-31T20:17:00.030451Z",
          "iopub.execute_input": "2024-08-31T20:17:00.030881Z",
          "iopub.status.idle": "2024-08-31T20:17:16.789902Z",
          "shell.execute_reply.started": "2024-08-31T20:17:00.030838Z",
          "shell.execute_reply": "2024-08-31T20:17:16.788572Z"
        },
        "trusted": true,
        "id": "ixNOpdp3KhfF"
      },
      "execution_count": null,
      "outputs": []
    },
    {
      "cell_type": "code",
      "source": [
        "imgIndex = 9\n",
        "image = xtrain[imgIndex]\n",
        "print(\"Image Label :\",ytrain[imgIndex])\n",
        "plt.imshow(image)"
      ],
      "metadata": {
        "execution": {
          "iopub.status.busy": "2024-08-31T20:17:16.79243Z",
          "iopub.execute_input": "2024-08-31T20:17:16.793294Z",
          "iopub.status.idle": "2024-08-31T20:17:17.063707Z",
          "shell.execute_reply.started": "2024-08-31T20:17:16.793234Z",
          "shell.execute_reply": "2024-08-31T20:17:17.062556Z"
        },
        "trusted": true,
        "id": "CfbyuYv6KhfG"
      },
      "execution_count": null,
      "outputs": []
    },
    {
      "cell_type": "code",
      "source": [
        "print(xtrain.shape)\n",
        "print(xtest.shape)"
      ],
      "metadata": {
        "execution": {
          "iopub.status.busy": "2024-08-31T20:17:17.065318Z",
          "iopub.execute_input": "2024-08-31T20:17:17.065739Z",
          "iopub.status.idle": "2024-08-31T20:17:17.07124Z",
          "shell.execute_reply.started": "2024-08-31T20:17:17.065693Z",
          "shell.execute_reply": "2024-08-31T20:17:17.070107Z"
        },
        "trusted": true,
        "id": "3UKcYMYSKhfG"
      },
      "execution_count": null,
      "outputs": []
    },
    {
      "cell_type": "code",
      "source": [
        "model = keras.models.Sequential([\n",
        "    keras.layers.Flatten(input_shape=[28, 28]),\n",
        "    keras.layers.Dense(300, activation=\"relu\"),\n",
        "    keras.layers.Dense(100, activation=\"relu\"),\n",
        "    keras.layers.Dense(10, activation=\"softmax\")\n",
        "])\n",
        "print(model.summary())"
      ],
      "metadata": {
        "execution": {
          "iopub.status.busy": "2024-08-31T20:17:35.944913Z",
          "iopub.execute_input": "2024-08-31T20:17:35.945346Z",
          "iopub.status.idle": "2024-08-31T20:17:36.059661Z",
          "shell.execute_reply.started": "2024-08-31T20:17:35.945305Z",
          "shell.execute_reply": "2024-08-31T20:17:36.058541Z"
        },
        "trusted": true,
        "id": "9JoOH_QJKhfG"
      },
      "execution_count": null,
      "outputs": []
    },
    {
      "cell_type": "code",
      "source": [
        "xvalid, xtrain = xtrain[:5000]/255.0, xtrain[5000:]/255.0\n",
        "yvalid, ytrain = ytrain[:5000], ytrain[5000:]"
      ],
      "metadata": {
        "execution": {
          "iopub.status.busy": "2024-08-31T20:17:56.15626Z",
          "iopub.execute_input": "2024-08-31T20:17:56.156761Z",
          "iopub.status.idle": "2024-08-31T20:17:56.312001Z",
          "shell.execute_reply.started": "2024-08-31T20:17:56.156704Z",
          "shell.execute_reply": "2024-08-31T20:17:56.310659Z"
        },
        "trusted": true,
        "id": "AZs6USiPKhfG"
      },
      "execution_count": null,
      "outputs": []
    },
    {
      "cell_type": "code",
      "source": [
        "model.compile(loss=\"sparse_categorical_crossentropy\",\n",
        "              optimizer=\"sgd\",\n",
        "              metrics=[\"accuracy\"])\n",
        "history = model.fit(xtrain, ytrain, epochs=30,\n",
        "                    validation_data=(xvalid, yvalid))"
      ],
      "metadata": {
        "execution": {
          "iopub.status.busy": "2024-08-31T20:18:07.902848Z",
          "iopub.execute_input": "2024-08-31T20:18:07.903322Z",
          "iopub.status.idle": "2024-08-31T20:20:27.666361Z",
          "shell.execute_reply.started": "2024-08-31T20:18:07.903277Z",
          "shell.execute_reply": "2024-08-31T20:20:27.664961Z"
        },
        "trusted": true,
        "id": "SmDrfs3EKhfG"
      },
      "execution_count": null,
      "outputs": []
    },
    {
      "cell_type": "code",
      "source": [
        "new = xtest[:5]\n",
        "predictions = model.predict(new)\n",
        "print(predictions)"
      ],
      "metadata": {
        "execution": {
          "iopub.status.busy": "2024-08-31T20:20:27.669378Z",
          "iopub.execute_input": "2024-08-31T20:20:27.669935Z",
          "iopub.status.idle": "2024-08-31T20:20:27.811147Z",
          "shell.execute_reply.started": "2024-08-31T20:20:27.66987Z",
          "shell.execute_reply": "2024-08-31T20:20:27.809854Z"
        },
        "trusted": true,
        "id": "GjwNOcTRKhfG"
      },
      "execution_count": null,
      "outputs": []
    },
    {
      "cell_type": "code",
      "source": [
        "classes = np.argmax(predictions, axis=1)\n",
        "print(classes)"
      ],
      "metadata": {
        "execution": {
          "iopub.status.busy": "2024-08-31T20:20:27.82759Z",
          "iopub.execute_input": "2024-08-31T20:20:27.828287Z",
          "iopub.status.idle": "2024-08-31T20:20:27.839114Z",
          "shell.execute_reply.started": "2024-08-31T20:20:27.82823Z",
          "shell.execute_reply": "2024-08-31T20:20:27.837713Z"
        },
        "trusted": true,
        "id": "m3oMZuHUKhfG"
      },
      "execution_count": null,
      "outputs": []
    }
  ]
}